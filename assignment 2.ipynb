{
 "cells": [
  {
   "cell_type": "markdown",
   "metadata": {},
   "source": [
    "# Session 2\n",
    "Assignment 1 Question"
   ]
  },
  {
   "cell_type": "markdown",
   "metadata": {},
   "source": [
    "# Task 1:"
   ]
  },
  {
   "cell_type": "markdown",
   "metadata": {},
   "source": [
    "1.1\n",
    "Write a Python Program to implement your own myreduce() function which works exactly like\n",
    "Python's built-in function reduce()"
   ]
  },
  {
   "cell_type": "code",
   "execution_count": null,
   "metadata": {},
   "outputs": [],
   "source": [
    "#own my reduce function.\n",
    "\n",
    "list=[1,2,3,4,5]\n",
    "\n",
    "def sum (a, b):\n",
    "    return a + b\n",
    "\n",
    "def myreduce (func, seq):\n",
    "    first=seq[0]\n",
    "    for i in seq[1:]:\n",
    "        first = func(first, i)\n",
    "    return first\n",
    "\n",
    "myreduce(sum, [1,2,3,4,5] )\n"
   ]
  },
  {
   "cell_type": "code",
   "execution_count": null,
   "metadata": {},
   "outputs": [],
   "source": [
    "#python builtin reduce()\n",
    "from functools import reduce \n",
    "reduce(sum,list)"
   ]
  },
  {
   "cell_type": "markdown",
   "metadata": {},
   "source": [
    "1.2\n",
    "Write a Python program to implement your own myfilter() function which works exactly like\n",
    "Python's built-in function filter()"
   ]
  },
  {
   "cell_type": "code",
   "execution_count": null,
   "metadata": {},
   "outputs": [],
   "source": [
    "def even_check(n):\n",
    "    if n%2==0:\n",
    "        return True\n",
    "\n",
    "def myfilter(func, seq):\n",
    "    Val=[]\n",
    "    for i in seq:\n",
    "        if func(i)==True:\n",
    "            Val.append(i)\n",
    "    return Val\n",
    "\n",
    "lst =[1,2,3,4,5,6,7,8]\n",
    "\n",
    "list(myfilter(even_check,lst)) \n",
    "    "
   ]
  },
  {
   "attachments": {
    "image.png": {
     "image/png": "[encoded data removed]"
    }
   },
   "cell_type": "markdown",
   "metadata": {},
   "source": [
    "2.\n",
    "Implement List comprehensions to produce the following lists.\n",
    "Write List comprehensions to produce the following Lists\n",
    "['A', 'C', 'A', 'D', 'G', 'I', ’L’, ‘ D’]\n",
    "['x', 'xx', 'xxx', 'xxxx', 'y', 'yy', 'yyy', 'yyyy', 'z', 'zz', 'zzz', 'zzzz']\n",
    "['x', 'y', 'z', 'xx', 'yy', 'zz', 'xx', 'yy', 'zz', 'xxxx', 'yyyy', 'zzzz']\n",
    "[[2], [3], [4], [3], [4], [5], [4], [5], [6]]\n",
    "[[2, 3, 4, 5], [3, 4, 5, 6], [4, 5, 6, 7], [5, 6, 7, 8]]\n",
    "[(1, 1), (2, 1), (3, 1), (1, 2), (2, 2), (3, 2), (1, 3), (2, 3), (3, 3)]\n",
    "\n",
    "![image.png](attachment:image.png)"
   ]
  },
  {
   "cell_type": "code",
   "execution_count": 1,
   "metadata": {},
   "outputs": [
    {
     "name": "stdout",
     "output_type": "stream",
     "text": [
      "['A', 'C', 'A', 'D', 'G', 'I', 'L', 'D']\n",
      "['x', 'xx', 'xxx', 'xxxx', 'y', 'yy', 'yyy', 'yyyy', 'z', 'zz', 'zzz', 'zzzz']\n",
      "['x', 'y', 'z', 'xx', 'yy', 'zz', 'xxx', 'yyy', 'zzz', 'xxxx', 'yyyy', 'zzzz']\n",
      "[[2], [3], [4], [3], [4], [5], [4], [5], [6]]\n",
      "[[2, 3, 4, 5], [3, 4, 5, 6], [4, 5, 6, 7], [5, 6, 7, 8]]\n",
      "[(1, 1), (2, 1), (3, 1), (1, 2), (2, 2), (3, 2), (1, 3), (2, 3), (3, 3)]\n"
     ]
    }
   ],
   "source": [
    "s='ACADGILD'\n",
    "lizt=print([i for i in s])\n",
    "\n",
    "t='xyz'\n",
    "r=[1,2,3,4]\n",
    "q=[2,3,4,3,4,5,4,5,6]\n",
    "s=[2,3,4,5,6]\n",
    "\n",
    "ld=print([k*j for j in t for k in r])\n",
    "ld=print([k*j for j in r for k in t])\n",
    "\n",
    "n=0 \n",
    "ld = print([[j+i]for i in range(3) for j in s[n:n+3]])\n",
    "\n",
    "n=0\n",
    "ld=print([[j, j+1, j+2,j+3] for i in range(1) for j in s[n:n+4]])\n",
    "\n",
    "ld= print([(j,i) for i in range(1, 4) for j in range(1, 4)])"
   ]
  },
  {
   "cell_type": "markdown",
   "metadata": {},
   "source": [
    "3.\n",
    "Implement a function longestWord() that takes a list of words and returns the longest one."
   ]
  },
  {
   "cell_type": "code",
   "execution_count": 2,
   "metadata": {},
   "outputs": [
    {
     "name": "stdout",
     "output_type": "stream",
     "text": [
      "qwweewrwrfdsfsdafasfeaeafasdfsadf\n"
     ]
    }
   ],
   "source": [
    "c=['qwweewrw','rfdsfsd', 'afasfeae','afasdfsadf']\n",
    "\n",
    "print(''.join(i for i in c))"
   ]
  },
  {
   "cell_type": "markdown",
   "metadata": {},
   "source": [
    "# Task 2:"
   ]
  },
  {
   "cell_type": "markdown",
   "metadata": {},
   "source": [
    "1.1\n",
    "Write a Python Program(with class concepts) to find the area of the triangle using the below\n",
    "formula.\n",
    "area = (s*(s-a)*(s-b)*(s-c)) ** 0.5\n",
    "Function to take the length of the sides of triangle from user should be defined in the parent\n",
    "class and function to calculate the area should be defined in subclass."
   ]
  },
  {
   "cell_type": "code",
   "execution_count": 37,
   "metadata": {},
   "outputs": [
    {
     "name": "stdout",
     "output_type": "stream",
     "text": [
      "a = 4\n",
      "b = 6\n",
      "c = 7\n",
      "13.778379803155376\n"
     ]
    }
   ],
   "source": [
    "class Triangle:\n",
    "    def __init__(self,a,b,c):\n",
    "        self.a=a\n",
    "        self.b=b\n",
    "        self.c=c\n",
    "\n",
    "A=float(input(\"a = \"))\n",
    "B=float(input(\"b = \"))\n",
    "C=float(input(\"c = \"))\n",
    "    \n",
    "class Calculate(Triangle):\n",
    "    def __init__(self,*args):\n",
    "        super(Calculate, self).__init__(*args)\n",
    "\n",
    "    def area(self):\n",
    "        s=((self.a+self.b+self.c)/2)\n",
    "        return ((s-self.a)*(s-self.b)*(s-self.c)**0.5)\n",
    "    \n",
    "    def __str__(self):\n",
    "        return \n",
    "    \n",
    "\n",
    "    \n",
    "    \n",
    "area_triangle=Calculate(A,B,C)\n",
    "print(area_triangle.area())\n"
   ]
  },
  {
   "cell_type": "markdown",
   "metadata": {},
   "source": [
    "1.2\n",
    "Write a function filter_long_words() that takes a list of words and an integer n and returns the list\n",
    "of words that are longer than n."
   ]
  },
  {
   "cell_type": "code",
   "execution_count": 55,
   "metadata": {},
   "outputs": [
    {
     "name": "stdout",
     "output_type": "stream",
     "text": [
      "['afasdfsadf']\n"
     ]
    }
   ],
   "source": [
    "c=['qwweewrw','rfdsfsd', 'afasfeae','afasdfsadf']\n",
    "d=[]\n",
    "\n",
    "def filter_long_words(n):\n",
    "    for i in c:\n",
    "        count=0\n",
    "        for j in i:\n",
    "            count+=1\n",
    "        if count>n:\n",
    "            d.append(i)\n",
    "    return d\n",
    "            \n",
    "print(filter_long_words(9))"
   ]
  },
  {
   "cell_type": "markdown",
   "metadata": {},
   "source": [
    "2.1\n",
    "Write a Python program using function concept that maps list of words into a list of integers\n",
    "representing the lengths of the corresponding words .\n",
    "Hint: If a list [ ab,cde,erty] is passed on to the python function output should come as [2,3,4]\n",
    "Here 2,3 and 4 are the lengths of the words in the list."
   ]
  },
  {
   "cell_type": "code",
   "execution_count": 56,
   "metadata": {},
   "outputs": [
    {
     "name": "stdout",
     "output_type": "stream",
     "text": [
      "[8, 7, 8, 10]\n"
     ]
    }
   ],
   "source": [
    "c=['qwweewrw','rfdsfsd', 'afasfeae','afasdfsadf']\n",
    "d=[]\n",
    "\n",
    "def list_of_words(n):\n",
    "    for i in c:\n",
    "        count=0\n",
    "        for j in i:\n",
    "            count+=1\n",
    "        d.append(count)\n",
    "    return d\n",
    "            \n",
    "print(list_of_words(9))"
   ]
  },
  {
   "cell_type": "markdown",
   "metadata": {},
   "source": [
    "2.2\n",
    "Write a Python function which takes a character (i.e. a string of length 1) and returns True if it is\n",
    "a vowel, False otherwise."
   ]
  },
  {
   "cell_type": "code",
   "execution_count": 95,
   "metadata": {},
   "outputs": [
    {
     "name": "stdout",
     "output_type": "stream",
     "text": [
      "True\n"
     ]
    }
   ],
   "source": [
    "vowel=['a','e','i','o','u']\n",
    "\n",
    "def check_vowel(alpha):\n",
    "        beta=alpha.lower()\n",
    "        if beta  in vowel:\n",
    "            return True\n",
    "        else:\n",
    "            return False\n",
    "        \n",
    "print (check_vowel('A'))"
   ]
  }
 ],
 "metadata": {
  "kernelspec": {
   "display_name": "Python 3",
   "language": "python",
   "name": "python3"
  },
  "language_info": {
   "codemirror_mode": {
    "name": "ipython",
    "version": 3
   },
   "file_extension": ".py",
   "mimetype": "text/x-python",
   "name": "python",
   "nbconvert_exporter": "python",
   "pygments_lexer": "ipython3",
   "version": "3.7.4"
  }
 },
 "nbformat": 4,
 "nbformat_minor": 2
}
